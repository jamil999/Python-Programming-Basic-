{
 "cells": [
  {
   "cell_type": "markdown",
   "metadata": {
    "colab_type": "text",
    "id": "ZXvFDb3VLf5p"
   },
   "source": [
    "# CSE110 Assignment 6\n",
    "This assignment is to guide you to solve everything you have learned so far by implementing Exceptions in Python. \n",
    "\n",
    "**<font color='red'>[MUST MAINTAIN VARIABLE NAMING CONVENTIONS FOR ALL THE TASKS]</font>**\n",
    "\n",
    "## Write the Python code of the following problems:\n"
   ]
  },
  {
   "cell_type": "markdown",
   "metadata": {
    "colab_type": "text",
    "id": "tZow-v3MLoLE"
   },
   "source": [
    "### Task 1\n",
    "Given a list named my_list.\n",
    "my_list=[10,20,30,40,60,100,2,5]\n",
    "\n",
    "Write a python program that takes the position as an input from the user and prints the element of that position from the list. \n",
    "\n",
    "If the user’s input position is not in the range, return an exception stating “Index out of range”.\n",
    "\n",
    "Make sure your program always prints “Program ended” at the end, no matter what happens.\n",
    "\n",
    "Hint: Use finally block\n",
    "\n",
    "**Example 1:** \\\n",
    "**Input:**\\\n",
    "1\\\n",
    "**Output:**\\\n",
    "20\\\n",
    "Program ended\n",
    "\n",
    "=============================\n",
    "\n",
    "**Example 2:** \\\n",
    "**Input:**\\\n",
    "10\\\n",
    "**Output:**\\\n",
    "Index out of range.\\\n",
    "Program ended\n"
   ]
  },
  {
   "cell_type": "code",
   "execution_count": 66,
   "metadata": {
    "colab": {},
    "colab_type": "code",
    "id": "c9yKuS5kLdDO"
   },
   "outputs": [
    {
     "name": "stdout",
     "output_type": "stream",
     "text": [
      "Enter the postion:10\n",
      "Index out of range.\n",
      "Program ended\n"
     ]
    }
   ],
   "source": [
    "#To do\n",
    "try:\n",
    "    position=int(input('Enter the postion:'))\n",
    "    my_list=[10,20,30,40,60,100,2,5]\n",
    "    element=my_list[position]\n",
    "    print(element)    \n",
    "except IndexError:\n",
    "    print('Index out of range.')\n",
    "finally:\n",
    "    print('Program ended')"
   ]
  },
  {
   "cell_type": "markdown",
   "metadata": {
    "colab_type": "text",
    "id": "gD4MMyO_Mtw4"
   },
   "source": [
    "### Task 2\n",
    "\n",
    "Suppose you have a dictionary named my_dictionary containing the name of some groceries and their prices.\\\n",
    "my_dictionary={“Potato”:12, “Onion”:16, “Ginger”:15, “Garlic”:12, “Tomato”:15}\n",
    "\n",
    "Now write a python program that takes the grocerie names as input from the users and shows the total price of the groceries.\n",
    "\n",
    "Some exceptions to handle:\n",
    "* Handle the exception when the given key is not present in the dictionary.\n",
    "* Handle the exception when the summation variable is not initialized.\n",
    "\n",
    "**Example 1:** \\\n",
    "**Input:**\\\n",
    "Potato,Onion,Ginger\\\n",
    "**Output:**\\\n",
    "43\n",
    "\n",
    "=============================\n",
    "\n",
    "**Example 2:** \\\n",
    "**Input:**\\\n",
    "Potato,Onion,Ginger,Beef\\\n",
    "**Output:**\\\n",
    "Some groceries are not available in the dictionary.\n"
   ]
  },
  {
   "cell_type": "code",
   "execution_count": 62,
   "metadata": {
    "colab": {},
    "colab_type": "code",
    "id": "15umlUXTNe5N"
   },
   "outputs": [
    {
     "name": "stdout",
     "output_type": "stream",
     "text": [
      "Enter the grocerie names:Potato,Onion,Ginger,Beef\n",
      "Some groceries are not available in the dictionary.\n"
     ]
    }
   ],
   "source": [
    "#To do\n",
    "try:\n",
    "    product_names=input('Enter the grocerie names:')\n",
    "    product_names=product_names.lower()\n",
    "    product_names=product_names.split(',')\n",
    "    sum_1=0\n",
    "    my_dictionary={\"potato\":12,\"onion\":16,\"ginger\":15,\"garlic\":12,\"tomato\":15}\n",
    "    for index in product_names:\n",
    "        sum_1=sum_1+my_dictionary[index]\n",
    "    print(sum_1)\n",
    "except KeyError:\n",
    "    print('Some groceries are not available in the dictionary.')        \n",
    "except TypeError:\n",
    "    print('The summation variable is not initialized.')"
   ]
  },
  {
   "cell_type": "markdown",
   "metadata": {
    "colab_type": "text",
    "id": "l5SgF6kTN7vY"
   },
   "source": [
    "### Task 3\n",
    "Write a python program that takes two lists as input from the user, multiplies the index wise elements of the two lists and adds it to a new variable. While doing the program you should handle the following exceptions:\n",
    "* Return an exception when the new variable is not declared stating “The new variable is not declared”.\n",
    "* Return an exception if an element in a list is not a number stating “The list has some non number values”.\n",
    "* Return an exception if there is an index out of bound stating “Index out of bound”.\n",
    "\n",
    "**Example 1:** \\\n",
    "**Input:**\\\n",
    "list_one = [1, a, 2, 4]\\\n",
    "List_two =[5, 6, 7, 8]\\\n",
    "**Output:**\\\n",
    "The list has some non number values\n",
    "\n",
    "=================\n",
    "\n",
    "**Example 2:** \\\n",
    "**Input:**\\\n",
    "list_one=[1, 2, 3, 4, 5]\\\n",
    "list_two=[1, 2, 3, 4]\\\n",
    "**Output:**\\\n",
    "Index out of bound\n",
    "\n",
    "=================\n",
    "\n",
    "**Example 3:** \\\n",
    "**Input:**\\\n",
    "list_one=[1,2,3,4]\\\n",
    "list_two=[5,6,7,8]\\\n",
    "**Output:**\\\n",
    "70\n",
    "\n",
    "\n"
   ]
  },
  {
   "cell_type": "code",
   "execution_count": 60,
   "metadata": {
    "colab": {},
    "colab_type": "code",
    "id": "oFpEZFRhOlvV"
   },
   "outputs": [
    {
     "name": "stdout",
     "output_type": "stream",
     "text": [
      "Enter the first list numbers with a comma between them:1,2,3,4\n",
      "Enter the second list numbers with a comma between them:5,6,7,8\n",
      "70\n"
     ]
    }
   ],
   "source": [
    "#To do\n",
    "def list_multiplyer():  \n",
    "    try:\n",
    "        list_one=input('Enter the first list numbers with a comma between them:')\n",
    "        list_two=input('Enter the second list numbers with a comma between them:')\n",
    "        list_one=list_one.split(',')\n",
    "        list_two=list_two.split(',')\n",
    "        first_sum=0\n",
    "        for index in range(len(list_one)):\n",
    "            first_sum=first_sum+int(list_one[index])*int(list_two[index])\n",
    "        return first_sum                  \n",
    "    except NameError:\n",
    "        return 'The new variable is not declared'\n",
    "    except ValueError:\n",
    "        return 'The list has some non number values'\n",
    "    except IndexError:\n",
    "        return 'Index out of bound'\n",
    "print(list_multiplyer())"
   ]
  },
  {
   "cell_type": "markdown",
   "metadata": {
    "colab_type": "text",
    "id": "iBqIUN-WOnvW"
   },
   "source": [
    "### Task 4\n",
    "Write a python program that will take a string input from the user. Your task is to count the number of vowels and consonants in the string.\n",
    "\n",
    "Using try, if the number of vowels is greater than or equal to the number of consonants than raise a runtime error. Print 'Number of vowels greater/equal to consonants. Please, paraphrase'.\\\n",
    "Otherwise, print 'The sentence will work'. \n",
    "\n",
    "**Note:** a,e,i,o,u are called vowels and all the other 21 english alphabets are consonants.\n",
    "\n",
    "**Example 1:** \\\n",
    "**Input:**\\\n",
    "'his age is 10'\\\n",
    "**Output:**\\\n",
    "Number of vowels is greater/equal. Paraphrase the sentence\n",
    "\n",
    "=================\n",
    "\n",
    "**Example 2:** \\\n",
    "**Input:**\\\n",
    "'he is 10 years old'\\\n",
    "**Output:**\\\n",
    "The sentence will work"
   ]
  },
  {
   "cell_type": "code",
   "execution_count": 57,
   "metadata": {
    "colab": {},
    "colab_type": "code",
    "id": "-4kg2W2EPwVo",
    "scrolled": true
   },
   "outputs": [
    {
     "name": "stdout",
     "output_type": "stream",
     "text": [
      "Enter the sentence:he is 10 years old\n",
      "The sentence will work\n"
     ]
    }
   ],
   "source": [
    "#To do\n",
    "try:\n",
    "    sentence=input('Enter the sentence:')\n",
    "    sentence=sentence.lower()\n",
    "    first_counter=0\n",
    "    second_counter=0\n",
    "    for index in sentence:\n",
    "        index=ord(index)\n",
    "        if index==97 or index==101 or index==105 or index==111 or index==117:\n",
    "            first_counter=first_counter+1\n",
    "        elif(index>=97 and index<=122):\n",
    "            second_counter=second_counter+1\n",
    "    if(first_counter>=second_counter):\n",
    "        raise RuntimeError()\n",
    "    else:\n",
    "        print('The sentence will work')\n",
    "except RuntimeError:\n",
    "    print('Number of vowels greater/equal to consonants.Please,paraphrase')"
   ]
  },
  {
   "cell_type": "markdown",
   "metadata": {
    "colab_type": "text",
    "id": "pl4CDeUkPxeM"
   },
   "source": [
    "### Task 5\n",
    "Write a python program that finds the corresponding energy values from a list of frequency values which are taken as input from the user, using the formula, $E=h*f$, where h is a constant of value: 1050\n",
    "\n",
    "Exceptions to handle:\n",
    "* Make sure all elements in the lists are numbers\n",
    "\n",
    "\n",
    "**Example 1:** \\\n",
    "**Input:**\\\n",
    "[$2$,$3$]\\\n",
    "**Output:**\\\n",
    "[$2100$, $3150$]\n",
    "\n",
    "=================\n",
    "\n",
    "**Example 2:** \\\n",
    "**Input:**\\\n",
    "[2,boss]\\\n",
    "**Output:**\\\n",
    "Wrong input type"
   ]
  },
  {
   "cell_type": "code",
   "execution_count": 55,
   "metadata": {
    "colab": {},
    "colab_type": "code",
    "id": "vdYQH9qnQvVo"
   },
   "outputs": [
    {
     "name": "stdout",
     "output_type": "stream",
     "text": [
      "Enter the frequency values with a comma between them:2,boss\n",
      "Wrong input type\n"
     ]
    }
   ],
   "source": [
    "#To do\n",
    "try:\n",
    "    first_list=input('Enter the frequency values with a comma between them:')\n",
    "    first_list=first_list.split(',')\n",
    "    new_list=[]\n",
    "    for index in first_list:\n",
    "        index=int(index)\n",
    "        index=(index*1050)\n",
    "        new_list.append(index)\n",
    "    print(new_list)\n",
    "except ValueError:\n",
    "    print('Wrong input type')"
   ]
  },
  {
   "cell_type": "markdown",
   "metadata": {
    "colab_type": "text",
    "id": "RdshPzpJRcsD"
   },
   "source": [
    "### Task 6\n",
    "Write a python function that will remove a given character from a sentence based on the starting and ending index of the sentence. In the place of the removed characters, add the count of the number of characters removed so far. For this program, you need to take 4 user inputs.\n",
    "* Sentence\n",
    "* Character to be removed\n",
    "* Starting index (inclusive)\n",
    "* Ending index (inclusive)\n",
    "\n",
    "Few exceptions to catch: \n",
    "* Name Error if a variable is not found. Print ‘Name Error: Variable not defined’\n",
    "* Value Error if the starting index and ending index is not an integer. Print ‘Value Error: Wrong input, please enter an integer value.’\n",
    "* Type Error when adding count in the new sentence. Print ‘Type Error: Cannot add integer value with string.’\n",
    "* Index Error if the starting and ending index is out of range. Print ‘Index Error: Index is outside the range of sentence length.’\n",
    "* For other exceptions, catch Exception. Print ‘Some other error occurred.’\n",
    "\n",
    "If no exception occurred, print the new string using else block. At the end using finally, print ‘The program execution is complete’.\n",
    "\n",
    "**Example 1:** \\\n",
    "**Input:**\\\n",
    "'my python programming book'\\\n",
    "'m'\\\n",
    "2\\\n",
    "20\\\n",
    "**Output:**\\\n",
    "my python progra12ing book\\\n",
    "The program execution is complete\n",
    "\n",
    "=================\n",
    "\n",
    "**Example 2:** \\\n",
    "**Input:**\\\n",
    "'my python programming book'\\\n",
    "'m'\\\n",
    "2.5\\\n",
    "20\\\n",
    "**Output:**\\\n",
    "Value Error: Wrong input, please enter an integer value.\\\n",
    "The program execution is complete\n",
    "\n",
    "=================\n",
    "\n",
    "**Example 3:** \\\n",
    "**Input:**\\\n",
    "'my python programming book'\\\n",
    "'m'\\\n",
    "2\\\n",
    "100\\\n",
    "**Output:**\\\n",
    "Index Error: Index is outside the range of sentence length.\\\n",
    "The program execution is complete\n"
   ]
  },
  {
   "cell_type": "code",
   "execution_count": 53,
   "metadata": {
    "colab": {},
    "colab_type": "code",
    "id": "bcU6dV5BSl7d"
   },
   "outputs": [
    {
     "name": "stdout",
     "output_type": "stream",
     "text": [
      "Enter the sentence:my python programming book\n",
      "Enter a character to remove:m\n",
      "Enter the starting index:2\n",
      "Enter the ending index:100\n",
      "Index Error: Index is outside the range of sentence length.\n",
      "The program execution is complete\n"
     ]
    }
   ],
   "source": [
    "#To do\n",
    "try:\n",
    "    sentence=input('Enter the sentence:')\n",
    "    first_list=list(sentence)\n",
    "    remove=input('Enter a character to remove:')\n",
    "    starting_index=int(input('Enter the starting index:'))\n",
    "    ending_index=int(input('Enter the ending index:'))\n",
    "    variable=''\n",
    "    counter=0\n",
    "    for index in range(starting_index,ending_index+1):\n",
    "        if remove==first_list[index]:\n",
    "            counter=counter+1\n",
    "            first_list[index]=str(counter)\n",
    "    for index in first_list:\n",
    "        variable=variable+index\n",
    "except ValueError:\n",
    "    print('Value Error: Wrong input, please enter an integer value.')\n",
    "except IndexError:\n",
    "    print('Index Error: Index is outside the range of sentence length.')\n",
    "except NameError:\n",
    "    print('Name Error: Variable not defined')\n",
    "except TypeError:\n",
    "    print('Type Error: Cannot add integer value with string.')\n",
    "except Exception:\n",
    "    print('Some other error occurred.')\n",
    "else:\n",
    "    print(variable)\n",
    "finally:\n",
    "    print('The program execution is complete')"
   ]
  },
  {
   "cell_type": "markdown",
   "metadata": {
    "colab_type": "text",
    "id": "SjU5ufx8Snv3"
   },
   "source": [
    "### Task 7\n",
    "Read a **file** from the user which contains the  name and salary of employees. Convert that to a dictionary where the key is the name of each employee and value is the salary of that employee. Then find the total cost for the company that it needs to pay through employees’ salary. Print the dictionary and sum if no exception occurs.\n",
    "\n",
    "Exception to handle:\n",
    "* check whether file is actually there\n",
    "* Check whether the salary in each line is a number or not.\n",
    "* Raise error if there are extra numbers or names\n",
    "\n",
    "**Example 1:** \\\n",
    "**Input:**\\\n",
    "Saadat 100\\\n",
    "Farzad 200\\\n",
    "Atef 300\\\n",
    "**Output:**\\\n",
    "dict={Saadat : 100, Farzad : 200, Atef : 300}\\\n",
    "Sum = 600\n",
    "\n",
    "=================\n",
    "\n",
    "**Example 2:** \\\n",
    "**Input:**\\\n",
    "Saadat 100\\\n",
    "Farzad 200\\\n",
    "Atef 300\\\n",
    "John\\\n",
    "**Output:**\\\n",
    "Extra Statement\n"
   ]
  },
  {
   "cell_type": "code",
   "execution_count": 68,
   "metadata": {
    "colab": {},
    "colab_type": "code",
    "id": "SUxJ1iCXUAPg"
   },
   "outputs": [
    {
     "name": "stdout",
     "output_type": "stream",
     "text": [
      "dict= {'Saadat': 100, 'Farzad': 200, 'Atef': 300}\n",
      "Sum= 600\n"
     ]
    }
   ],
   "source": [
    "#To do\n",
    "try:\n",
    "    information=open('employees_info.txt')\n",
    "    new_list=information.readlines()\n",
    "    new_dict={}\n",
    "    first_sum=0 \n",
    "    for index in new_list:\n",
    "        variable=index.split(' ')\n",
    "        name=variable[0]\n",
    "        salary=int(variable[1].strip())\n",
    "        if salary is None:\n",
    "            raise IndexError\n",
    "        elif name is None:\n",
    "            raise IndexError\n",
    "    for index in new_list:\n",
    "        variable=index.split(' ')  \n",
    "        salary=int(variable[1].strip())\n",
    "        name=variable[0]\n",
    "        new_dict.update({name:salary})\n",
    "    print('dict=',new_dict)     \n",
    "    for key,value in new_dict.items():\n",
    "        first_sum=first_sum+value\n",
    "    print('Sum=',first_sum)\n",
    "except FileNotFoundError:\n",
    "    print('Found no file')\n",
    "except ValueError:\n",
    "    print('A line containing salary is not a number.')    \n",
    "except IndexError:\n",
    "    print('Extra Statement')"
   ]
  },
  {
   "cell_type": "markdown",
   "metadata": {
    "colab_type": "text",
    "id": "GC6Y943uUNHY"
   },
   "source": [
    "### Task 8\n",
    "Imagine Salman Khan is going to the sets of a new movie. He decides to cycle everyday on his way to the sets. For that he uses a distance calculator which finds the distance based on the present day's date, which is asked as an input from the user. You should first take the day and then the month as your inputs.\n",
    "The inputs should be stored in variables named `day` and `month` The distance calculator uses the following formulae to calculate a number which dictates the number of kilometers he must cycle on his way to work.\n",
    "\n",
    "Exceptions to handle:\\\n",
    "-Check for 0 division error exception\\\n",
    "-Type error exception when taking date as input\\\n",
    "-Value error exception, as day can not be greater than 31 and month can not be greater than 12\n",
    "\n",
    "\n",
    "\n",
    "\n",
    "\n",
    "\n",
    "\n",
    "\n",
    "\n",
    "\n",
    "\n",
    "\n",
    "\n",
    "\n",
    "Distance = |if day<10, `5+(day*2)/month`\\\n",
    "&nbsp;&nbsp;&nbsp;&nbsp;&nbsp;&nbsp;&nbsp;&nbsp;&nbsp;&nbsp;&nbsp;&nbsp;&nbsp;&nbsp;&nbsp;&nbsp;&nbsp;&nbsp;&nbsp; |else, `3+(day/month)`\n",
    "\n",
    "\n",
    "**Example 1:** \\\n",
    "**Input:**\\\n",
    "3\\\n",
    "5\\\n",
    "**Output:**\\\n",
    "6.2 kilometres\n",
    "\n",
    "=================\n",
    "\n",
    "**Example 2:** \\\n",
    "**Input:**\\\n",
    "2\\\n",
    "0\\\n",
    "**Output:**\\\n",
    "0 is not a valid month\n",
    "\n",
    "**Example 3:** \\\n",
    "**Input:**\\\n",
    "35\\\n",
    "12\\\n",
    "**Output:**\\\n",
    "35 is not a valid day of any month\n",
    "\n",
    "\n",
    "**Example 4:** \\\n",
    "**Input:**\\\n",
    "Hello\\\n",
    "12\\\n",
    "**Output:**\\\n",
    "Please do not enter any string as input\n",
    "\n",
    "\n",
    "**Example 5:** \\\n",
    "**Input:**\\\n",
    "15\\\n",
    "12\\\n",
    "**Output:**\\\n",
    "4.25 kilometres\n",
    "\n",
    "\n",
    "\n",
    "\n"
   ]
  },
  {
   "cell_type": "code",
   "execution_count": 48,
   "metadata": {
    "colab": {},
    "colab_type": "code",
    "id": "fg9mQUaEWH7a"
   },
   "outputs": [
    {
     "name": "stdout",
     "output_type": "stream",
     "text": [
      "Enter the specific day:Hello\n",
      "Enter the specific month:12\n",
      "Please do not enter any string as input\n"
     ]
    }
   ],
   "source": [
    "#To do\n",
    "try:\n",
    "    specific_day=input('Enter the specific day:')\n",
    "    specific_month=input('Enter the specific month:')\n",
    "    distance=0\n",
    "    if specific_day.isnumeric()==False:\n",
    "        raise TypeError\n",
    "    if specific_month.isnumeric()==False:\n",
    "        raise TypeError\n",
    "    num_day=int(specific_day)\n",
    "    num_month=int(specific_month)    \n",
    "    if num_day>31 or num_month>12:\n",
    "        raise ValueError\n",
    "    if num_day<10:\n",
    "        total_distance=5+(num_day*2)/num_month\n",
    "    else:\n",
    "        total_distance=3+(num_day/num_month)\n",
    "    print(total_distance,'kilometres')\n",
    "except ValueError:\n",
    "    print(specific_day,' is not a valid day of any month')\n",
    "except ZeroDivisionError:\n",
    "    print('0 is not a valid number')\n",
    "except TypeError:\n",
    "    print('Please do not enter any string as input')"
   ]
  },
  {
   "cell_type": "markdown",
   "metadata": {
    "colab_type": "text",
    "id": "2Xzq6xJNWvbf"
   },
   "source": [
    "### Task 9\n",
    "Write a python program to make a calculator. The user must input a string consisting of a number, operator and another number separated by white spaces.\n",
    "* If the user’s input does not contain 3 elements, raise an exception error stating “Input does not contain 3 elements/Wrong operator”.\n",
    "* If the user inputs any other values except numbers in first and third position of the input, raise value error exception stating “Input does not contain numbers.” \n",
    "* If the user does not input ‘+’ or ‘-’ or ’/’ or ‘*’ or ‘%’ in second position of the input, again raise an exception stating “Input does not contain 3 elements/Wrong operator”.\n",
    "* In case of division, also handle divide by zero exception.\n",
    "\n",
    "If all the inputs are correct, calculate the result and print the value.\n",
    "\n",
    "**Example 1:** \\\n",
    "**Input:**\\\n",
    "1 + 1 + 1\\\n",
    "**Output:**\\\n",
    "Input does not contain 3 elements/Wrong operator\n",
    "\n",
    "=================\n",
    "\n",
    "**Example 2:** \\\n",
    "**Input:**\\\n",
    "A * B\\\n",
    "**Output:**\\\n",
    "Input does not contain numbers.\n",
    "\n",
    "=================\n",
    "\n",
    "**Example 3:** \\\n",
    "**Input:**\\\n",
    "1 $ 3\\\n",
    "**Output:**\\\n",
    "Input does not contain 3 elements/Wrong operator\n",
    "\n",
    "=================\n",
    "\n",
    "**Example 4:** \\\n",
    "**Input:**\\\n",
    "1 + 1\\\n",
    "**Output:**\\\n",
    "The answer is : 2\n"
   ]
  },
  {
   "cell_type": "code",
   "execution_count": 43,
   "metadata": {
    "colab": {},
    "colab_type": "code",
    "id": "vX2d7DiVXbhc"
   },
   "outputs": [
    {
     "name": "stdout",
     "output_type": "stream",
     "text": [
      "1 $ 3\n",
      "Input does not contain 3 elements/Wrong operator\n"
     ]
    }
   ],
   "source": [
    "try:\n",
    "    first_input=input()\n",
    "    first_input=first_input.replace(' ','')\n",
    "    variable=0\n",
    "    if first_input[0].isalpha() or first_input[2].isalpha():\n",
    "        raise ValueError    \n",
    "    if len(first_input)!=3:\n",
    "        raise RuntimeError('Input does not contain 3 elements/Wrong operator')\n",
    "    if (first_input[1]=='+' or first_input[1]=='-' or first_input[1]=='*' or first_input[1]=='/' or first_input[1]=='%'):\n",
    "        pass\n",
    "    else:\n",
    "        raise RuntimeError('Input does not contain 3 elements/Wrong operator')\n",
    "\n",
    "    if first_input[1]=='+':\n",
    "        variable=int(first_input[0])+int(first_input[2])\n",
    "    elif first_input[1]=='-':\n",
    "        variable=int(first_input[0])-int(first_input[2])\n",
    "    elif first_input[1]=='*':\n",
    "        variable=int(first_input[0])*int(first_input[2])\n",
    "    elif first_input[1]=='/':\n",
    "        variable=int(first_input[0])/int(first_input[2])\n",
    "    elif first_input[1]=='%':\n",
    "        variable=int(first_input[0])%int(first_input[2])\n",
    "    print('The answer is:',variable)    \n",
    "except ValueError:\n",
    "    print('Input does not contain numbers.')\n",
    "except ZeroDivisionError:\n",
    "    print('Division by zero is not possible')\n",
    "except RuntimeError as extra:\n",
    "    print(extra)"
   ]
  }
 ],
 "metadata": {
  "colab": {
   "collapsed_sections": [],
   "name": "CSE110 Assignment06.ipynb",
   "provenance": []
  },
  "kernelspec": {
   "display_name": "Python 3",
   "language": "python",
   "name": "python3"
  },
  "language_info": {
   "codemirror_mode": {
    "name": "ipython",
    "version": 3
   },
   "file_extension": ".py",
   "mimetype": "text/x-python",
   "name": "python",
   "nbconvert_exporter": "python",
   "pygments_lexer": "ipython3",
   "version": "3.7.6"
  }
 },
 "nbformat": 4,
 "nbformat_minor": 1
}
