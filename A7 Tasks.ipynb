{
 "cells": [
  {
   "cell_type": "markdown",
   "metadata": {
    "colab_type": "text",
    "id": "oMYzsTcnHEll"
   },
   "source": [
    "# CSE110 Assignment 7\n",
    "\n",
    "\n",
    "## Write the Python code of the following problems:\n",
    "**<font color='red'>[MUST MAINTAIN VARIABLE NAMING CONVENTIONS FOR ALL THE TASKS]</font>**"
   ]
  },
  {
   "cell_type": "markdown",
   "metadata": {
    "colab_type": "text",
    "id": "jT-t2zlnHEll"
   },
   "source": [
    "### Task 1\n",
    "\n",
    "Given a list named my_list. <br/>\n",
    "my_list=[10,1,20,3,6,2,5,11,15,2,12,14,17,18,29] <br/>\n",
    "Now use bubble sort to sort my_list into ascending order.\n",
    "\n",
    "**Output**<br/>\n",
    "[1, 2, 2, 3, 5, 6, 10, 11, 12, 14, 15, 17, 18, 20, 29]"
   ]
  },
  {
   "cell_type": "code",
   "execution_count": 9,
   "metadata": {
    "colab": {},
    "colab_type": "code",
    "id": "7qXVakLgHElm"
   },
   "outputs": [
    {
     "name": "stdout",
     "output_type": "stream",
     "text": [
      "[1, 2, 2, 3, 5, 6, 10, 11, 12, 14, 15, 17, 18, 20, 29]\n"
     ]
    }
   ],
   "source": [
    "#todo\n",
    "my_list=[10,1,20,3,6,2,5,11,15,2,12,14,17,18,29]\n",
    "for index in range(len(my_list)):\n",
    "    for index_1 in range(len(my_list)-index-1):\n",
    "        if my_list[index_1]>my_list[index_1+1]:\n",
    "            variable=my_list[index_1]\n",
    "            my_list[index_1]=my_list[index_1+1]\n",
    "            my_list[index_1+1]=variable \n",
    "print(my_list)"
   ]
  },
  {
   "cell_type": "markdown",
   "metadata": {
    "colab_type": "text",
    "id": "w1QgeWd2HElp"
   },
   "source": [
    "### Task 2\n",
    "\n",
    "Given a list named my_list. <br/>\n",
    "my_list=[10,1,20,3,6,2,5,11,15,2,12,14,17,18,29] <br/>\n",
    "Now use selection sort to sort my_list into ascending order.\n",
    "\n",
    "**Output**<br/>\n",
    "[1, 2, 2, 3, 5, 6, 10, 11, 12, 14, 15, 17, 18, 20, 29]\n",
    "\n"
   ]
  },
  {
   "cell_type": "code",
   "execution_count": 8,
   "metadata": {
    "colab": {
     "base_uri": "https://localhost:8080/",
     "height": 34
    },
    "colab_type": "code",
    "executionInfo": {
     "elapsed": 909,
     "status": "ok",
     "timestamp": 1600458385861,
     "user": {
      "displayName": "JAMIL HOSSAIN",
      "photoUrl": "https://lh3.googleusercontent.com/a-/AOh14GiJ_zSShwkv3sYomOVdLOUhOCSIfdyPHrhSdfoCyQ=s64",
      "userId": "04724917064662770095"
     },
     "user_tz": -360
    },
    "id": "am0B_8ICHElq",
    "outputId": "5e0b1716-496f-4b01-8e41-6e7c710e98e0"
   },
   "outputs": [
    {
     "name": "stdout",
     "output_type": "stream",
     "text": [
      "[1, 2, 2, 3, 5, 6, 10, 11, 12, 14, 15, 17, 18, 20, 29]\n"
     ]
    }
   ],
   "source": [
    "#todo\n",
    "my_list=[10,1,20,3,6,2,5,11,15,2,12,14,17,18,29]\n",
    "def selection_sort(my_list):\n",
    "    for index in range(len(my_list)):\n",
    "        minimum=my_list[index]\n",
    "        minimum_index=index\n",
    "        for index_1 in range(index+1,len(my_list)):\n",
    "            if my_list[index_1]<minimum:\n",
    "                minimum=my_list[index_1]\n",
    "                minimum_index=index_1\n",
    "        variable=my_list[minimum_index]\n",
    "        my_list[minimum_index]=my_list[index]\n",
    "        my_list[index]=variable\n",
    "        \n",
    "    return my_list\n",
    "print(selection_sort(my_list))"
   ]
  },
  {
   "cell_type": "markdown",
   "metadata": {
    "colab_type": "text",
    "id": "j4ffr2CAHElt"
   },
   "source": [
    "### Task  3\n",
    "\n",
    "Given a list named my_list. <br/>\n",
    "my_list=[10,1,20,3,6,2,5,11,15,2,12,14,17,18,29] <br/>\n",
    "Now use any of the two sorts used above to sort the list in descending order.\n",
    "\n",
    "**Output**<br/>\n",
    "[29, 20, 18, 17, 15, 14, 12, 11, 10, 6, 5, 3, 2, 2, 1]\n"
   ]
  },
  {
   "cell_type": "code",
   "execution_count": 7,
   "metadata": {
    "colab": {},
    "colab_type": "code",
    "id": "n2X3YR-_HElt"
   },
   "outputs": [
    {
     "name": "stdout",
     "output_type": "stream",
     "text": [
      "[29, 20, 18, 17, 15, 14, 12, 11, 10, 6, 5, 3, 2, 2, 1]\n"
     ]
    }
   ],
   "source": [
    "#todo\n",
    "my_list=[10,1,20,3,6,2,5,11,15,2,12,14,17,18,29]\n",
    "for index in range(len(my_list)):\n",
    "    for index_1 in range(len(my_list)-index-1):\n",
    "        if my_list[index_1]<my_list[index_1+1]:\n",
    "            variable=my_list[index_1]\n",
    "            my_list[index_1]=my_list[index_1+1]\n",
    "            my_list[index_1+1]=variable\n",
    "print(my_list)"
   ]
  },
  {
   "cell_type": "markdown",
   "metadata": {
    "colab_type": "text",
    "id": "9iYiiTWWHElw"
   },
   "source": [
    "### Task 4\n",
    "\n",
    "Suppose you have a sitting arrangement of the students of the final exam in a list. The list contains the last two digits of their roll number.<br/>\n",
    "\n",
    "sitting_list=[10,30,20,70,11,15,22,16,58,100,12,56,70,80] <br/>\n",
    "\n",
    "Now you want to organize the sitting arrangement. You decided to sort all the students in the even indices into ascending order and all the students in the odd indices  into descending order.  <br/>\n",
    "\n",
    "So write a python program that organizes the list for you the way you decided.<br/>\n",
    "\n",
    "\n",
    "**Sample Output**<br/>\n",
    "[10, 100, 11, 80, 12, 70, 20, 56, 22, 30, 58, 16, 70, 15]"
   ]
  },
  {
   "cell_type": "code",
   "execution_count": 6,
   "metadata": {
    "colab": {},
    "colab_type": "code",
    "id": "nPdUAKDJHElw"
   },
   "outputs": [
    {
     "name": "stdout",
     "output_type": "stream",
     "text": [
      "[10, 100, 11, 80, 12, 70, 20, 56, 22, 30, 58, 16, 70, 15]\n"
     ]
    }
   ],
   "source": [
    "#todo\n",
    "sitting_list=[10,30,20,70,11,15,22,16,58,100,12,56,70,80]\n",
    "for a_index in range(len(sitting_list)):\n",
    "    if a_index%2==0:\n",
    "        minimum=sitting_list[a_index]\n",
    "        minimum_index=a_index\n",
    "        for b_index in range(a_index,len(sitting_list),2):\n",
    "            if sitting_list[b_index]<minimum:\n",
    "                minimum=sitting_list[b_index]\n",
    "                minimum_index=b_index\n",
    "        variable=sitting_list[a_index]\n",
    "        sitting_list[a_index]=minimum\n",
    "        sitting_list[minimum_index]=variable\n",
    "    else:\n",
    "        maximum=sitting_list[a_index]\n",
    "        maximum_index=a_index\n",
    "        for c_index in range(a_index,len(sitting_list),2):\n",
    "            if sitting_list[c_index]>maximum:\n",
    "                maximum=sitting_list[c_index]\n",
    "                maximum_index=c_index\n",
    "        variable=sitting_list[a_index]\n",
    "        sitting_list[a_index]=maximum\n",
    "        sitting_list[maximum_index]=variable            \n",
    "print(sitting_list)"
   ]
  },
  {
   "cell_type": "markdown",
   "metadata": {
    "colab_type": "text",
    "id": "oVR1Tsa0HElz"
   },
   "source": [
    "### Task 5\n",
    "\n",
    "Suppose a list contains the final exam results of CSE110, PHY111, and MAT110 of each student in a listed form. Your task is to sort the list based on a course name that will be given by the user and print the names after sorting. <br/>\n",
    "\n",
    "For example, a list looks like <br/>\n",
    "Lst = [ [‘Farzad’,95,87,91] , [‘Mahjabin’,92,90,83], [‘Sadman’,87,92,80], [‘Nakhla’,85,94,90] ] <br/>\n",
    "where for each list, 1st index is name, 2nd index is CSE110, 3rd index is PHY111 and 4th index is MAT110. \n",
    "\n",
    "**Sample Input**<br/>\n",
    "MAT110\n",
    "\n",
    "**Sample Output**<br/>\n",
    "Farzad <br/>\n",
    "Nakhla <br/>\n",
    "Mahjabin <br/>\n",
    "Sadman\n",
    "\n",
    "**Hint:**<br/>\n",
    "Nested list can be accessed by listname[firstIndex][secondIndex] like lst[0][0] will give Farzad\n"
   ]
  },
  {
   "cell_type": "code",
   "execution_count": 5,
   "metadata": {
    "colab": {},
    "colab_type": "code",
    "id": "539b2P1NHElz"
   },
   "outputs": [
    {
     "name": "stdout",
     "output_type": "stream",
     "text": [
      "Enter the name of the course:MAT110\n",
      "Farzad\n",
      "Nakhla\n",
      "Mahjabin\n",
      "Sadman\n"
     ]
    }
   ],
   "source": [
    "#todo\n",
    "course=input('Enter the name of the course:')\n",
    "Lst=[['Farzad',95,87,91],['Mahjabin',92,90,83],['Sadman',87,92,80],['Nakhla',85,94,90]]\n",
    "\n",
    "if course=='CSE110':\n",
    "    index=1\n",
    "if course=='PHY111':\n",
    "    index=2\n",
    "if course=='MAT110':\n",
    "    index=3\n",
    "    \n",
    "for a_index in range(len(Lst)-1):\n",
    "    minimum=a_index\n",
    "    for b_index in range(a_index+1,len(Lst)):\n",
    "        if Lst[b_index][index]>Lst[minimum][index]:\n",
    "            minimum=b_index\n",
    "    variable=Lst[a_index]\n",
    "    Lst[a_index]=Lst[minimum]\n",
    "    Lst[minimum]=variable\n",
    "\n",
    "for name in Lst:\n",
    "    print(name[0])"
   ]
  },
  {
   "cell_type": "markdown",
   "metadata": {
    "colab_type": "text",
    "id": "B0Rqbyi4HEl2"
   },
   "source": [
    "### Task 6\n",
    "\n",
    "Suppose you have a list named my_list. Your task is to sort the list and print the count of numbers that have changed their position. <br/>\n",
    "my_list = [4,2,3,1,6,5] <br/>\n",
    "Sorted list would be [1,2,3,4,5,6] where 4 numbers have changed their position.\n",
    "\n",
    "\n",
    "**Sample Output**<br/>\n",
    "4"
   ]
  },
  {
   "cell_type": "code",
   "execution_count": 4,
   "metadata": {
    "colab": {},
    "colab_type": "code",
    "id": "AMc8jAa7HEl2"
   },
   "outputs": [
    {
     "name": "stdout",
     "output_type": "stream",
     "text": [
      "4\n"
     ]
    }
   ],
   "source": [
    "#todo\n",
    "my_list=[4,2,3,1,6,5]\n",
    "count=0\n",
    "for index in range(len(my_list)):\n",
    "        checker=False\n",
    "        minimum=my_list[index]\n",
    "        minimum_index=index\n",
    "        for index_1 in range(index+1,len(my_list)):\n",
    "            if my_list[index_1]<minimum:\n",
    "                checker=True\n",
    "                minimum=my_list[index_1]\n",
    "                minimum_index=index_1\n",
    "        variable=my_list[minimum_index]\n",
    "        my_list[minimum_index]=my_list[index]\n",
    "        my_list[index]=variable\n",
    "        if checker==True:\n",
    "            count=count+2\n",
    "print(count)"
   ]
  },
  {
   "cell_type": "markdown",
   "metadata": {
    "colab_type": "text",
    "id": "iIH5n0sJHEl5"
   },
   "source": [
    "### Task 7\n",
    "\n",
    "Write a python program that takes two lists from the user, merges the two lists, sorts the list, and find the median of the elements of the two lists.\n",
    "\n",
    "**Sample Input 1**<br/>\n",
    "list_one= [1,2,1,4] <br/>\n",
    "list_two= [5,4,1]\n",
    "\n",
    "\n",
    "**Sample Output 1**<br/>\n",
    "Sorted list= [1, 1, 1, 2, 4, 4, 5] <br/>\n",
    "Median = 2\n",
    "\n",
    "**Sample Input 2**<br/>\n",
    "list_one= [1,7,9,10] <br/>\n",
    "list_two= [2,7,6,5]\n",
    "\n",
    "\n",
    "**Sample Output 2**<br/>\n",
    "Sorted list=[1, 2, 5, 6, 7, 7, 9, 10] <br/>\n",
    "Median=6.5\n",
    "\n"
   ]
  },
  {
   "cell_type": "code",
   "execution_count": 3,
   "metadata": {
    "colab": {},
    "colab_type": "code",
    "id": "KsFxC7XbHEl6"
   },
   "outputs": [
    {
     "name": "stdout",
     "output_type": "stream",
     "text": [
      "Sorted list= [1, 2, 5, 6, 7, 7, 9, 10]\n",
      "Median= 6.5\n"
     ]
    }
   ],
   "source": [
    "#todo\n",
    "list_one=[1,7,9,10]\n",
    "list_two=[2,7,6,5]\n",
    "merged_list=list_one+list_two\n",
    "for index in range(len(merged_list)):\n",
    "    for index_1 in range(len(merged_list)-index-1):\n",
    "        if merged_list[index_1]>merged_list[index_1+1]:\n",
    "            variable=merged_list[index_1]\n",
    "            merged_list[index_1]=merged_list[index_1+1]\n",
    "            merged_list[index_1+1]=variable\n",
    "print('Sorted list=',merged_list)\n",
    "lenth=len(merged_list)\n",
    "if lenth%2==0:\n",
    "    first_median=merged_list[lenth//2]\n",
    "    second_median=merged_list[lenth//2-1]\n",
    "    main_median=(first_median+second_median)/2\n",
    "    print('Median=',main_median)\n",
    "else:\n",
    "    main_median=merged_list[lenth//2]\n",
    "    print('Median=',main_median)"
   ]
  },
  {
   "cell_type": "markdown",
   "metadata": {},
   "source": [
    "### Task 8\n",
    "\n",
    "\n",
    "Write a python program that takes a list from user containing both positive and negative numbers. The program then finds two pairs of values whose summation is closest to zero.\n",
    "\n",
    "**Sample Input 1**<br/>\n",
    "list_one=[-10,15,2,4,-4,7,-8] \n",
    "\n",
    "\n",
    "**Sample Output 1**<br/>\n",
    "Two pairs which have the smallest sum = 4 and -4\n",
    "\n",
    "\n",
    "**Sample Input 2**<br/>\n",
    "list_one=[1,-8,4,-7,-20,26,70,-85]\n",
    "\n",
    "\n",
    "**Sample Output 2**<br/>\n",
    "Two pairs which have the smallest sum = 4 and -7"
   ]
  },
  {
   "cell_type": "code",
   "execution_count": 2,
   "metadata": {
    "colab": {},
    "colab_type": "code",
    "id": "5ORSGa5GHEl9"
   },
   "outputs": [
    {
     "name": "stdout",
     "output_type": "stream",
     "text": [
      "Two pairs which have the smallest sum = -7 and 4\n"
     ]
    }
   ],
   "source": [
    "#todo\n",
    "list_one=[1,-8,4,-7,-20,26,70,-85]\n",
    "for index in range(len(list_one)):\n",
    "    for index_1 in range(len(list_one)-index-1):\n",
    "        if list_one[index_1]>list_one[index_1+1]:\n",
    "            variable=list_one[index_1]\n",
    "            list_one[index_1]=list_one[index_1+1]\n",
    "            list_one[index_1+1]=variable \n",
    "number=0\n",
    "lenth=len(list_one)-1\n",
    "minimum_sum=0\n",
    "sum_pair1=0\n",
    "sum_pair2=0\n",
    "while number<lenth:\n",
    "    outcome=list_one[number]+list_one[lenth]\n",
    "    if number==0 and lenth==len(list_one)-1:\n",
    "           minimum_sum=abs(outcome)\n",
    "    if outcome<minimum_sum:\n",
    "        sum_pair1=list_one[number]\n",
    "        sum_pair2=list_one[lenth]\n",
    "        minimum_sum=abs(outcome)\n",
    "    if outcome>0:\n",
    "        lenth=lenth-1\n",
    "    else:\n",
    "        number=number+1\n",
    "    \n",
    "print('Two pairs which have the smallest sum =',sum_pair1,'and',sum_pair2)"
   ]
  },
  {
   "cell_type": "code",
   "execution_count": null,
   "metadata": {},
   "outputs": [],
   "source": []
  }
 ],
 "metadata": {
  "colab": {
   "collapsed_sections": [],
   "name": "CSE110 Assignment07.ipynb",
   "provenance": []
  },
  "kernelspec": {
   "display_name": "Python 3",
   "language": "python",
   "name": "python3"
  },
  "language_info": {
   "codemirror_mode": {
    "name": "ipython",
    "version": 3
   },
   "file_extension": ".py",
   "mimetype": "text/x-python",
   "name": "python",
   "nbconvert_exporter": "python",
   "pygments_lexer": "ipython3",
   "version": "3.7.6"
  }
 },
 "nbformat": 4,
 "nbformat_minor": 1
}
